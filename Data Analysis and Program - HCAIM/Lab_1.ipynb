{
  "nbformat": 4,
  "nbformat_minor": 0,
  "metadata": {
    "colab": {
      "provenance": []
    },
    "kernelspec": {
      "name": "python3",
      "display_name": "Python 3"
    },
    "language_info": {
      "name": "python"
    }
  },
  "cells": [
    {
      "cell_type": "markdown",
      "source": [
        "# **Lab 1 - Data Analysis and Programming**\n",
        "\n",
        "> ## Python Review -- Zaur Gouliev HCAIM (Student Number: X00205702)\n",
        "\n",
        "#### **Task 1**\n",
        "\n",
        "Import Numpy and Pandas libraries"
      ],
      "metadata": {
        "id": "3KmJFlI1B6Gc"
      }
    },
    {
      "cell_type": "code",
      "execution_count": 1,
      "metadata": {
        "id": "UkfX798hB5Kt"
      },
      "outputs": [],
      "source": [
        "import numpy as np\n",
        "import pandas as pd"
      ]
    },
    {
      "cell_type": "markdown",
      "source": [
        "#### **Task 2 - Comparison, logical and Conditional Operators**\n",
        "\n",
        "- Without executing the code cell, What will these two lines of code generate?\n",
        "\n",
        "```\n",
        "a = 5\n",
        "b = 3.5\n",
        "\n",
        "print(a == b or a != b) # A is equal to B or A is not equal to B (1 condition or other must satisfy)\n",
        "print(a == b and a != b) # A is equal to B AND A is not equal to B (2 conditions)\n",
        "```\n",
        "\n"
      ],
      "metadata": {
        "id": "O-uhW5vDQ16p"
      }
    },
    {
      "cell_type": "code",
      "source": [
        "#True # A is equal to B AND A is not equal to B (2 conditions)\n",
        "#False # A is equal to B AND A is not equal to B (2 conditions)"
      ],
      "metadata": {
        "id": "LaTMuxMFR4Xd"
      },
      "execution_count": 3,
      "outputs": []
    },
    {
      "cell_type": "markdown",
      "source": [
        "- Write a code that takes a number from the user and checks if the number is divisible by 3 but is not a multiple of 9"
      ],
      "metadata": {
        "id": "t5kW7SlVScP-"
      }
    },
    {
      "cell_type": "code",
      "source": [
        "num = int(input(\"Enter a number: \"))\n",
        "\n",
        "if num % 3 == 0 and num % 9 != 0:\n",
        "    print(str(num) + \" is divisible by 3 but not a multiple of 9.\")\n",
        "else:\n",
        "    print(str(num) + \" is not divisible by 3 or is a multiple of 9.\")"
      ],
      "metadata": {
        "id": "BbbNSY9VShyW"
      },
      "execution_count": null,
      "outputs": []
    },
    {
      "cell_type": "markdown",
      "source": [
        "#### **Task 3 - Loops, range, list Comprehension, and functions**\n",
        "-  Write a code that generates the following table:\n",
        "```\n",
        "1   1    1\n",
        "2   4    8\n",
        "3   9   27\n",
        "4  16   64\n",
        "5  25  125\n",
        "6  36  216\n",
        "7  49  343\n",
        "8  64  512\n",
        "9  81  729\n",
        "10 100 1000\n",
        "```\n",
        "\n"
      ],
      "metadata": {
        "id": "8qzyk-oES-8Y"
      }
    },
    {
      "cell_type": "code",
      "source": [
        "for i in range(1, 11):\n",
        "    print(f\"{i} {i**2} {i**3}\")"
      ],
      "metadata": {
        "id": "hzTa1cF1ULb3",
        "colab": {
          "base_uri": "https://localhost:8080/"
        },
        "outputId": "aca3133e-5ff7-4ed0-a961-f5df11a156d3"
      },
      "execution_count": 4,
      "outputs": [
        {
          "output_type": "stream",
          "name": "stdout",
          "text": [
            "1 1 1\n",
            "2 4 8\n",
            "3 9 27\n",
            "4 16 64\n",
            "5 25 125\n",
            "6 36 216\n",
            "7 49 343\n",
            "8 64 512\n",
            "9 81 729\n",
            "10 100 1000\n"
          ]
        }
      ]
    },
    {
      "cell_type": "markdown",
      "source": [
        "- Create a rolling dice game that assume we have two dice (#1 and #2). The dice is being thrown and a random number is generated everytime. The game should be designed such that it prompts the user to ask if he/she would like to keep playing or exit the game."
      ],
      "metadata": {
        "id": "ZCuPp5zxUPjl"
      }
    },
    {
      "cell_type": "code",
      "source": [
        "import random # using random module built in to py\n",
        "\n",
        "while True: # simple while loop\n",
        "    dice1 = random.randint(1, 6)\n",
        "    dice2 = random.randint(1, 6)\n",
        "    print(\"Dice 1:\", dice1)\n",
        "    print(\"Dice 2:\", dice2)\n",
        "    print(\"Total:\", dice1 + dice2)\n",
        "    playAgain = input(\"Do you want to keep playing the game or exit the game? (yep/nope)\")\n",
        "    if playAgain.lower() != \"yep\": # ensure lower cases\n",
        "        break # break statement"
      ],
      "metadata": {
        "id": "k2u2C2q2UY49",
        "colab": {
          "base_uri": "https://localhost:8080/"
        },
        "outputId": "7757bf5f-60bb-4b94-b823-59c15edd9144"
      },
      "execution_count": 31,
      "outputs": [
        {
          "name": "stdout",
          "output_type": "stream",
          "text": [
            "Dice 1: 4\n",
            "Dice 2: 6\n",
            "Total: 10\n",
            "Do you want to keep playing the game or exit the game? (yep/nope)nope\n"
          ]
        }
      ]
    },
    {
      "cell_type": "markdown",
      "source": [
        "- Write a function that takes in a list of prices of a stock for the past 5 days and then print the normalized prices.\n",
        "\n"
      ],
      "metadata": {
        "id": "dUJYIfGKUs5G"
      }
    },
    {
      "cell_type": "code",
      "source": [
        "from sklearn import preprocessing\n",
        "stockPrices = np.array([200, 250, 230, 280, 190])\n",
        "normalisedPrices = preprocessing.normalize([stockPrices])\n",
        "print(normalisedPrices)\n"
      ],
      "metadata": {
        "id": "05iBtnfgeqZa",
        "colab": {
          "base_uri": "https://localhost:8080/"
        },
        "outputId": "9cd617e4-ca19-49fa-a8da-81e23bc09f3d"
      },
      "execution_count": 6,
      "outputs": [
        {
          "output_type": "stream",
          "name": "stdout",
          "text": [
            "[[0.38497148 0.48121435 0.4427172  0.53896007 0.3657229 ]]\n"
          ]
        }
      ]
    },
    {
      "cell_type": "markdown",
      "source": [
        "- Write a code from the user that takes in a range (upper and lower bounds) and returns a list of positive and even numbers only"
      ],
      "metadata": {
        "id": "x3mjbg1DgOJZ"
      }
    },
    {
      "cell_type": "code",
      "source": [
        "def positiveEvenNums(lower, upper): # 2 parameters\n",
        "    even_nums = []\n",
        "    for num in range(lower, upper+1):\n",
        "        if num > 0 and num % 2 == 0:\n",
        "            even_nums.append(num)\n",
        "    return even_nums\n",
        "\n",
        "# Example usage:\n",
        "print(positiveEvenNums(1, 10))"
      ],
      "metadata": {
        "id": "CHfTz9zqgPmJ",
        "colab": {
          "base_uri": "https://localhost:8080/"
        },
        "outputId": "8910aa81-8bb0-49b0-a274-386d068137b3"
      },
      "execution_count": 29,
      "outputs": [
        {
          "output_type": "stream",
          "name": "stdout",
          "text": [
            "[2, 4, 6, 8, 10]\n"
          ]
        }
      ]
    },
    {
      "cell_type": "markdown",
      "source": [
        "#### **Task 4 - Working with Pandas and Numpy**\n",
        "- Reading from web - Write a code that uses Pandas to read tabular cricket score data from https://stats.espncricinfo.com/ci/content/records/208504.html\n",
        "\n",
        "- Examine the data type after reading from web\n",
        "\n",
        "- Use name *df_cric_stats* to create a dataframe using first element from the list obtained. \n"
      ],
      "metadata": {
        "id": "s69pvWxbeyQk"
      }
    },
    {
      "cell_type": "code",
      "source": [
        "url = 'https://stats.espncricinfo.com/ci/content/records/208504.html'\n",
        "\n",
        "df_cric_stats = pd.read_html(url)[0]\n",
        "print(df_cric_stats.dtypes)"
      ],
      "metadata": {
        "id": "XnD1cnNxlQvY",
        "colab": {
          "base_uri": "https://localhost:8080/"
        },
        "outputId": "486fcb58-82d5-4eaa-9460-4fd151eab015"
      },
      "execution_count": 7,
      "outputs": [
        {
          "output_type": "stream",
          "name": "stdout",
          "text": [
            "Player         object\n",
            "Runs           object\n",
            "Mins           object\n",
            "Balls          object\n",
            "4s              int64\n",
            "6s              int64\n",
            "Unnamed: 6    float64\n",
            "Team           object\n",
            "Opposition     object\n",
            "Ground         object\n",
            "Match Date     object\n",
            "Scorecard      object\n",
            "dtype: object\n"
          ]
        }
      ]
    },
    {
      "cell_type": "markdown",
      "source": [
        "- Create a dataframe with name *first_20* using the first 20 rows of the *df_cric_stats* dataframe.\n",
        "\n",
        "- Add a new column *boundaries* to the dataframe *first_20* that gives the summation of boundaries (4s + 6s) hit by the players.\n",
        "\n",
        "- List out the name of the players who have played more than 500 balls using the dataframe *df_cric_stats*. Remove duplicate players.\n",
        "\n"
      ],
      "metadata": {
        "id": "8UKGdh7Hpmb2"
      }
    },
    {
      "cell_type": "code",
      "source": [
        "first_20 = df_cric_stats.head(20)\n",
        "first_20['boundaries'] = first_20['4s'] + first_20['6s']\n",
        "# print(firstTwenty)\n",
        "\n",
        "df_cric_stats = df_cric_stats[df_cric_stats['Balls'] != '-'] # Process table to remove '-' (null) values first\n",
        "df_cric_stats['Balls'] = df_cric_stats['Balls'].astype(int) # '>' not supported between instances of 'str' and 'int' so I turned Balls variable to an integer data type using astype\n",
        "players = df_cric_stats[df_cric_stats['Balls'] > 500]['Player'].drop_duplicates()\n",
        "\n",
        "print(players)"
      ],
      "metadata": {
        "id": "MKSkNG4yqchl",
        "colab": {
          "base_uri": "https://localhost:8080/"
        },
        "outputId": "f40d07dd-7a07-4367-9d67-2553922d5564"
      },
      "execution_count": 28,
      "outputs": [
        {
          "output_type": "stream",
          "name": "stdout",
          "text": [
            "0              BC Lara\n",
            "3     DPMD Jayawardene\n",
            "5             L Hutton\n",
            "6        ST Jayasuriya\n",
            "10           MA Taylor\n",
            "16           A Sandham\n",
            "20         Younis Khan\n",
            "21             HM Amla\n",
            "22          RB Simpson\n",
            "25           RM Cowper\n",
            "30         BB McCullum\n",
            "32            MD Crowe\n",
            "33             AN Cook\n",
            "48           G Kirsten\n",
            "59           GN Yallop\n",
            "65         DL Houghton\n",
            "68            DL Amiss\n",
            "73       Javed Miandad\n",
            "76           GM Turner\n",
            "84       KF Barrington\n",
            "94          WR Hammond\n",
            "Name: Player, dtype: object\n"
          ]
        },
        {
          "output_type": "stream",
          "name": "stderr",
          "text": [
            "<ipython-input-28-d969ae24433b>:2: SettingWithCopyWarning: \n",
            "A value is trying to be set on a copy of a slice from a DataFrame.\n",
            "Try using .loc[row_indexer,col_indexer] = value instead\n",
            "\n",
            "See the caveats in the documentation: https://pandas.pydata.org/pandas-docs/stable/user_guide/indexing.html#returning-a-view-versus-a-copy\n",
            "  first_20['boundaries'] = first_20['4s'] + first_20['6s']\n",
            "<ipython-input-28-d969ae24433b>:6: SettingWithCopyWarning: \n",
            "A value is trying to be set on a copy of a slice from a DataFrame.\n",
            "Try using .loc[row_indexer,col_indexer] = value instead\n",
            "\n",
            "See the caveats in the documentation: https://pandas.pydata.org/pandas-docs/stable/user_guide/indexing.html#returning-a-view-versus-a-copy\n",
            "  df_cric_stats['Balls'] = df_cric_stats['Balls'].astype(int) # '>' not supported between instances of 'str' and 'int' so I turned Balls variable to an integer data type using astype\n"
          ]
        }
      ]
    }
  ]
}