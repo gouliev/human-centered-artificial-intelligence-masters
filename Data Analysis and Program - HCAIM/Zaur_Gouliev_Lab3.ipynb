{
  "cells": [
    {
      "cell_type": "markdown",
      "metadata": {
        "id": "NFmGMr3HJ0Ws"
      },
      "source": [
        "# Note: The package you may need to do this lab is **scipy.stats**\n",
        "\n",
        "###Task 1 - Binomial Distribution (hint: use binom)\n",
        "\n",
        "60 percent of a large software company’s customers use the latest version of its operating system.  If a random sample of 25 customers are selected for a telephone survey, write a code (use binomial distribution) to calculate the probability that:\n",
        "\n",
        "\n",
        "\n",
        "*   exactly 8 customers who uses the latest version is selected\n",
        "*   more than 6 customers who uses the latest version are selected\n",
        "*   atmost 12 customers who uses the old version are selected\n",
        "* plot a binomial distrution of number of customers using latest version of operating system\n",
        "\n",
        "\n",
        "\n",
        "\n",
        "\n"
      ]
    },
    {
      "cell_type": "markdown",
      "source": [
        "# Zaur Gouliev Lab 3:\n",
        "## Please note all figures rounded up to 4"
      ],
      "metadata": {
        "id": "ghxLiSrw-g62"
      }
    },
    {
      "cell_type": "code",
      "execution_count": 47,
      "metadata": {
        "id": "DSUybtxA0TWX",
        "colab": {
          "base_uri": "https://localhost:8080/"
        },
        "outputId": "600075af-66ab-43d4-d10b-3643f056a21e"
      },
      "outputs": [
        {
          "output_type": "stream",
          "name": "stdout",
          "text": [
            " Probability of exactly 8 customers is: 0.0031\n"
          ]
        }
      ],
      "source": [
        "#Import libraries\n",
        "import scipy.stats as sc\n",
        "from scipy.stats import binom, norm, poisson\n",
        "import numpy as np\n",
        "import seaborn as sns\n",
        "import matplotlib.pyplot as plt\n",
        "import pandas as pd\n",
        "import math\n",
        "import random as rd\n",
        "\n",
        "\n",
        "#Using Binomial Distribution\n",
        "\n",
        "n = 25\n",
        "p = 0.6 #probability of selecting latest version of operating system\n",
        "\n",
        "# For exacly 8 customers ( First Question is done for you)\n",
        "print(\" Probability of exactly 8 customers is:\", round(sc.binom.pmf(8,n,p), 4))"
      ]
    },
    {
      "cell_type": "code",
      "source": [
        "# For exacly 8 customers\n",
        "n = 25\n",
        "p = 0.6\n",
        "k = 8\n",
        "\n",
        "prob = binom.pmf(k, n, p)\n",
        "print(\"The probability of exactly 8 customers using the latest version is:\", round(prob, 4))"
      ],
      "metadata": {
        "colab": {
          "base_uri": "https://localhost:8080/"
        },
        "id": "fg-LadVE01WI",
        "outputId": "0423a15a-b5ac-4e17-fe2a-ce2cddff0621"
      },
      "execution_count": 48,
      "outputs": [
        {
          "output_type": "stream",
          "name": "stdout",
          "text": [
            "The probability of exactly 8 customers using the latest version is: 0.0031\n"
          ]
        }
      ]
    },
    {
      "cell_type": "code",
      "source": [
        "# For more than 6 customers P(X>6) = 1 - P(X<=6)\n",
        "n = 25\n",
        "p = 0.6\n",
        "k = 6\n",
        "\n",
        "prob = 1 - binom.cdf(k, n, p)\n",
        "print(\"The probability of more than 6 customers using the latest version is:\", round(prob, 4))"
      ],
      "metadata": {
        "colab": {
          "base_uri": "https://localhost:8080/"
        },
        "id": "IGJrPxGh0qX6",
        "outputId": "94f52df1-07b3-4eb7-815e-15828da644d7"
      },
      "execution_count": 49,
      "outputs": [
        {
          "output_type": "stream",
          "name": "stdout",
          "text": [
            "The probability of more than 6 customers using the latest version is: 0.9997\n"
          ]
        }
      ]
    },
    {
      "cell_type": "code",
      "source": [
        "# For atmost 12 customers\n",
        "n = 25\n",
        "p = 0.4\n",
        "k = 12\n",
        "\n",
        "prob = binom.cdf(k, n, p)\n",
        "print(\"The probability of at most 12 customers using the old version is:\", round(prob, 4))"
      ],
      "metadata": {
        "colab": {
          "base_uri": "https://localhost:8080/"
        },
        "id": "nLg4AC1L0qaU",
        "outputId": "d29e4158-bc8b-44a5-c506-d599fca4cd27"
      },
      "execution_count": 50,
      "outputs": [
        {
          "output_type": "stream",
          "name": "stdout",
          "text": [
            "The probability of at most 12 customers using the old version is: 0.8462\n"
          ]
        }
      ]
    },
    {
      "cell_type": "code",
      "source": [
        "#Probability Distribution\n",
        "\n",
        "n = 25\n",
        "p = 0.6\n",
        "\n",
        "k_values = np.arange(0, n+1)\n",
        "probbilities = binom.pmf(k_values, n, p)\n",
        "\n",
        "plt.bar(k_values, probbilities)\n",
        "plt.xlabel('Number of custoers using the Late version')\n",
        "plt.ylabel('Probability')\n",
        "plt.title('Binomial Distribution of Customers Using Latest Version')\n",
        "plt.show()"
      ],
      "metadata": {
        "colab": {
          "base_uri": "https://localhost:8080/",
          "height": 295
        },
        "id": "tNUp9uzI0qc9",
        "outputId": "a8a937a5-c516-4419-d57d-5d1cd3ce2d8e"
      },
      "execution_count": 51,
      "outputs": [
        {
          "output_type": "display_data",
          "data": {
            "text/plain": [
              "<Figure size 432x288 with 1 Axes>"
            ],
            "image/png": "[encoded data removed]"
          },
          "metadata": {
            "needs_background": "light"
          }
        }
      ]
    },
    {
      "cell_type": "markdown",
      "metadata": {
        "id": "CxOtXGbNKmMQ"
      },
      "source": [
        "###Task 2 - Normal Distribution (hint:use norm)\n",
        "\n",
        "The length of time taken for queries to a mobile network company to be resolved is approximately normally distributed with a mean of 20 hours and a standard deviation of 5 hours.\n",
        "Determine the proportion of queries which take:\n",
        "\n",
        "* longer than 25 hours to resolve;\n",
        "\n",
        "* less than 18 hours to resolve;\n",
        "\n",
        "* between 15 and 30 hours.\n",
        "\n",
        "* minimum number of hours within which 70% of queries are resolved.\n"
      ]
    },
    {
      "cell_type": "code",
      "execution_count": 52,
      "metadata": {
        "id": "fPq18sfyIGsi",
        "colab": {
          "base_uri": "https://localhost:8080/"
        },
        "outputId": "c688324e-3b30-4d09-a7a1-4618b391a233"
      },
      "outputs": [
        {
          "output_type": "stream",
          "name": "stdout",
          "text": [
            "The proportion of queries that take longer than 25 hours to resolve is: 0.1587\n"
          ]
        }
      ],
      "source": [
        "# Using Normal Distribution ( Write you code here)\n",
        "# https://docs.scipy.org/doc/scipy/reference/generated/scipy.stats.norm.html\n",
        "mean = 20 # mean hours\n",
        "sd = 5 # standard deviation\n",
        "x = 25 #target\n",
        "\n",
        "prob = 1 - norm.cdf(x, mean, sd)\n",
        "print(\"The proportion of queries that take longer than 25 hours to resolve is:\", round(prob, 4))"
      ]
    },
    {
      "cell_type": "code",
      "source": [
        "mean = 20 # mean hours\n",
        "sd = 5 # standard deviation\n",
        "x = 18 # our target\n",
        "\n",
        "prob = norm.cdf(x, mean, sd)\n",
        "print(\"The proportion of queries that take less than 18 hours to resolve is:\", round(prob, 4))"
      ],
      "metadata": {
        "colab": {
          "base_uri": "https://localhost:8080/"
        },
        "id": "IDXUvFuc3qcm",
        "outputId": "a1a26ab7-72fa-4f18-8dba-34686f3a90bb"
      },
      "execution_count": 53,
      "outputs": [
        {
          "output_type": "stream",
          "name": "stdout",
          "text": [
            "The proportion of queries that take less than 18 hours to resolve is: 0.3446\n"
          ]
        }
      ]
    },
    {
      "cell_type": "code",
      "source": [
        "mean = 20\n",
        "sd = 5\n",
        "a = 15 # target range min\n",
        "b = 30 # target range max\n",
        "\n",
        "prob = norm.cdf(b, mean, sd) - norm.cdf(a, mean, sd)\n",
        "print(\"The proportion of queries that take between 15 and 30 hours to resolve is:\", round(prob, 4))"
      ],
      "metadata": {
        "colab": {
          "base_uri": "https://localhost:8080/"
        },
        "id": "wzhDaFeK3qfm",
        "outputId": "7f626a19-69ae-4544-c431-0160e3550f5a"
      },
      "execution_count": 54,
      "outputs": [
        {
          "output_type": "stream",
          "name": "stdout",
          "text": [
            "The proportion of queries that take between 15 and 30 hours to resolve is: 0.8186\n"
          ]
        }
      ]
    },
    {
      "cell_type": "code",
      "source": [
        "# To find the minimum number of hours, we need to find the value of x such that the cumulative probability up to x is 0.7\n",
        "\n",
        "mean = 20\n",
        "sd = 5\n",
        "\n",
        "x = norm.ppf(0.15, mean, sd) #P(X ≤ x) = 0.7\n",
        "\n",
        "print(\"The minimum number of hours within which 70% of queries are resolved is:\", round(x, 4))"
      ],
      "metadata": {
        "colab": {
          "base_uri": "https://localhost:8080/"
        },
        "id": "sbEiYHha3qic",
        "outputId": "eeb5f4f4-bfb4-4f77-a1cc-93495546270b"
      },
      "execution_count": 60,
      "outputs": [
        {
          "output_type": "stream",
          "name": "stdout",
          "text": [
            "The minimum number of hours within which 70% of queries are resolved is: 14.8178\n"
          ]
        }
      ]
    },
    {
      "cell_type": "markdown",
      "metadata": {
        "id": "whSI3MFPKyyB"
      },
      "source": [
        "### Task 3 - Poissan Distribution and Central Limit Theorem.\n",
        "\n",
        "The rate of the number of calls to a customer service center is equal to 9 calls per minute.\n",
        "\n",
        "* Generate and plot a histogram (count Vs distribution) of a posson distrbution of size 10,000 of the number of calls per minute. Compare this with the probability density plot (density Vs distribution).\n",
        "* What is the probability of getting more than 16 calls per minute? Find the count(out of 10,000 instances) of getting more than 16 calls per minute.\n",
        "* Show that the means of the samples (greater than 30) taken from this poisson distrbution is normally distributed (Center limit Theorem)."
      ]
    },
    {
      "cell_type": "code",
      "execution_count": 56,
      "metadata": {
        "id": "tOjyFHbsKyca",
        "colab": {
          "base_uri": "https://localhost:8080/",
          "height": 295
        },
        "outputId": "ea4d66be-2696-459a-ef81-aa6af59b8795"
      },
      "outputs": [
        {
          "output_type": "display_data",
          "data": {
            "text/plain": [
              "<Figure size 432x288 with 1 Axes>"
            ],
            "image/png": "[encoded data removed]"
          },
          "metadata": {
            "needs_background": "light"
          }
        }
      ],
      "source": [
        "# Generate and plot poisson distribution. You can create additional code cells to display outputs\n",
        "\n",
        "rate = 9\n",
        "size = 10000\n",
        "\n",
        "# generate poisson distribution\n",
        "samples = np.random.poisson(rate, size)\n",
        "\n",
        "# plot histogram\n",
        "plt.hist(samples, bins=range(30), density=True, alpha=0.5, label='Histgram')\n",
        "\n",
        "# plot probability density function\n",
        "x = np.arange(0, 30)\n",
        "pmf = poisson.pmf(x, rate)\n",
        "plt.plot(x, pmf, 'r', alpha=0.5, label='Probbility Density')\n",
        "\n",
        "plt.xlabel('Number of calls per min')\n",
        "plt.ylabel('Probbility')\n",
        "plt.title('Poisson Distribution with rate = 9')\n",
        "plt.legend()\n",
        "plt.show()"
      ]
    },
    {
      "cell_type": "markdown",
      "source": [
        "Poisson distribution has a low rate of 9 calls per minute, so the histogram and PMF are skewed to the right, indicating a low probability of many calls per mins"
      ],
      "metadata": {
        "id": "5tAS6piq6EIm"
      }
    },
    {
      "cell_type": "code",
      "source": [
        "# Probability of getting more than 16 calls P(X>16) = 1 - P(X<=16)\n",
        "rate = 9\n",
        "size = 10000\n",
        "\n",
        "# Poisson distribution\n",
        "samples = np.random.poisson(rate, size)\n",
        "\n",
        "# probability of getting more than 16 calls per minute\n",
        "prob = 1 - poisson.cdf(16, rate)\n",
        "\n",
        "# more than 16 calls per minute (counter)\n",
        "count = np.sum(samples > 16)\n",
        "\n",
        "print(\"Probability of getting more than 16 calls per minute:\", round(prob, 4)) # rounding up to 4 decimal places\n",
        "print(\"Count of getting more than 16 calls per minute:\", count)"
      ],
      "metadata": {
        "colab": {
          "base_uri": "https://localhost:8080/"
        },
        "id": "TG-dWfxW6YU9",
        "outputId": "bcd96aa6-f162-45a2-a51f-ecbd4b1ec8fe"
      },
      "execution_count": 57,
      "outputs": [
        {
          "output_type": "stream",
          "name": "stdout",
          "text": [
            "Probability of getting more than 16 calls per minute: 0.0111\n",
            "Count of getting more than 16 calls per minute: 113\n"
          ]
        }
      ]
    },
    {
      "cell_type": "code",
      "source": [
        "# take 1000 samples of size 50 from the Poisson distribution\n",
        "sample_means = np.mean(np.random.poisson(rate, size=(1000, 50)), axis=1)\n",
        "\n",
        "# plot histogram of sample means\n",
        "plt.hist(sample_means, bins=20, density=True)\n",
        "plt.xlabel('Sample Mean')\n",
        "plt.ylabel('Density')\n",
        "plt.title('Distribution of Sample Means from Poisson Distribution')\n",
        "plt.show()"
      ],
      "metadata": {
        "colab": {
          "base_uri": "https://localhost:8080/",
          "height": 295
        },
        "id": "2W7W8Ol97Kv2",
        "outputId": "face497a-3893-40ca-e3c3-b3c58b1a6d9a"
      },
      "execution_count": 58,
      "outputs": [
        {
          "output_type": "display_data",
          "data": {
            "text/plain": [
              "<Figure size 432x288 with 1 Axes>"
            ],
            "image/png": "[encoded data removed]"
          },
          "metadata": {
            "needs_background": "light"
          }
        }
      ]
    }
  ],
  "metadata": {
    "colab": {
      "provenance": []
    },
    "kernelspec": {
      "display_name": "Python 3",
      "name": "python3"
    },
    "language_info": {
      "codemirror_mode": {
        "name": "ipython",
        "version": 3
      },
      "file_extension": ".py",
      "mimetype": "text/x-python",
      "name": "python",
      "nbconvert_exporter": "python",
      "pygments_lexer": "ipython3",
      "version": "3.8.5"
    }
  },
  "nbformat": 4,
  "nbformat_minor": 0
}